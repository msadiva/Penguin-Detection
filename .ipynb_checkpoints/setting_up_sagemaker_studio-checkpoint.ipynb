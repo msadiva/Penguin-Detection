{
 "cells": [
  {
   "cell_type": "code",
   "execution_count": 2,
   "id": "3d0ec548-2852-485f-a5ad-482acfd4e7bc",
   "metadata": {
    "tags": []
   },
   "outputs": [],
   "source": [
    "%load_ext autoreload\n",
    "%autoreload 2\n",
    "\n",
    "import sys\n",
    "from pathlib import Path\n",
    "\n",
    "CODE_FOLDER = Path(\"code\")\n",
    "CODE_FOLDER.mkdir(parents=True, exist_ok=True)\n",
    "\n",
    "sys.path.append(f\"./{CODE_FOLDER}\")"
   ]
  },
  {
   "cell_type": "code",
   "execution_count": 3,
   "id": "5820dd91-87fa-4cf7-98a1-c0d2932f8d73",
   "metadata": {
    "tags": []
   },
   "outputs": [],
   "source": [
    "DOMAIN_ID = \"d-2jrvvxuimedd\"\n",
    "USER_PROFILE = \"default-1689165909359\""
   ]
  },
  {
   "cell_type": "markdown",
   "id": "36ee570c-e88b-40a6-8e0a-56346232e5be",
   "metadata": {},
   "source": [
    "## Step 1 - Permissions"
   ]
  },
  {
   "cell_type": "code",
   "execution_count": 4,
   "id": "76ca89ca-23b2-489a-8f98-8d87006f8c59",
   "metadata": {
    "tags": []
   },
   "outputs": [
    {
     "data": {
      "text/plain": [
       "'arn:aws:iam::411039631567:role/service-role/AmazonSageMaker-ExecutionRole-20230712T181406'"
      ]
     },
     "execution_count": 4,
     "metadata": {},
     "output_type": "execute_result"
    }
   ],
   "source": [
    "import sagemaker\n",
    "\n",
    "role = sagemaker.get_execution_role()\n",
    "role"
   ]
  },
  {
   "cell_type": "markdown",
   "id": "f398e838-520b-48ac-a809-675973bd9654",
   "metadata": {},
   "source": [
    "## Here we need to change the permissions in IAM Policies \n",
    "\n",
    "#### {\n",
    "    \"Version\": \"2012-10-17\",\n",
    "    \"Statement\": [\n",
    "        {\n",
    "            \"Sid\": \"IAM0\",\n",
    "            \"Effect\": \"Allow\",\n",
    "            \"Action\": [\n",
    "                \"iam:CreateServiceLinkedRole\"\n",
    "            ],\n",
    "            \"Resource\": \"*\",\n",
    "            \"Condition\": {\n",
    "                \"StringEquals\": {\n",
    "                    \"iam:AWSServiceName\": [\n",
    "                        \"autoscaling.amazonaws.com\",\n",
    "                        \"ec2scheduled.amazonaws.com\",\n",
    "                        \"elasticloadbalancing.amazonaws.com\",\n",
    "                        \"spot.amazonaws.com\",\n",
    "                        \"spotfleet.amazonaws.com\",\n",
    "                        \"transitgateway.amazonaws.com\"\n",
    "                    ]\n",
    "                }\n",
    "            }\n",
    "        },\n",
    "        {\n",
    "            \"Sid\": \"IAM1\",\n",
    "            \"Effect\": \"Allow\",\n",
    "            \"Action\": [\n",
    "                \"iam:CreateRole\",\n",
    "                \"iam:PassRole\",\n",
    "                \"iam:AttachRolePolicy\"\n",
    "            ],\n",
    "            \"Resource\": \"*\"\n",
    "        },\n",
    "        {\n",
    "            \"Sid\": \"Lambda\",\n",
    "            \"Effect\": \"Allow\",\n",
    "            \"Action\": [\n",
    "                \"lambda:CreateFunction\",\n",
    "                \"lambda:DeleteFunction\",\n",
    "                \"lambda:InvokeFunctionUrl\",\n",
    "                \"lambda:InvokeFunction\",\n",
    "                \"lambda:UpdateFunctionCode\",\n",
    "                \"lambda:InvokeAsync\"\n",
    "            ],\n",
    "            \"Resource\": \"*\"\n",
    "        },\n",
    "        {\n",
    "            \"Sid\": \"SageMaker\",\n",
    "            \"Effect\": \"Allow\",\n",
    "            \"Action\": [\n",
    "                \"sagemaker:UpdateDomain\",\n",
    "                \"sagemaker:UpdateUserProfile\"\n",
    "            ],\n",
    "            \"Resource\": \"*\"\n",
    "        },\n",
    "        {\n",
    "            \"Sid\": \"CloudWatch\",\n",
    "            \"Effect\": \"Allow\",\n",
    "            \"Action\": [\n",
    "                \"cloudwatch:PutMetricData\",\n",
    "                \"cloudwatch:GetMetricData\",\n",
    "                \"cloudwatch:DescribeAlarmsForMetric\",\n",
    "                \"logs:CreateLogStream\",\n",
    "                \"logs:PutLogEvents\",\n",
    "                \"logs:CreateLogGroup\",\n",
    "                \"logs:DescribeLogStreams\"\n",
    "            ],\n",
    "            \"Resource\": \"*\"\n",
    "        },\n",
    "        {\n",
    "            \"Sid\": \"ECR\",\n",
    "            \"Effect\": \"Allow\",\n",
    "            \"Action\": [\n",
    "                \"ecr:GetAuthorizationToken\",\n",
    "                \"ecr:BatchCheckLayerAvailability\",\n",
    "                \"ecr:GetDownloadUrlForLayer\",\n",
    "                \"ecr:BatchGetImage\"\n",
    "            ],\n",
    "            \"Resource\": \"*\"\n",
    "        },\n",
    "        {\n",
    "            \"Sid\": \"S3\",\n",
    "            \"Effect\": \"Allow\",\n",
    "            \"Action\": [\n",
    "                \"s3:CreateBucket\",\n",
    "                \"s3:ListBucket\",\n",
    "                \"s3:GetBucketLocation\",\n",
    "                \"s3:PutObject\",\n",
    "                \"s3:GetObject\",\n",
    "                \"s3:DeleteObject\"\n",
    "            ],\n",
    "            \"Resource\": \"arn:aws:s3:::*\"\n",
    "        }\n",
    "    ]\n",
    "}"
   ]
  },
  {
   "cell_type": "markdown",
   "id": "ad7c9f23-184b-48e1-853d-77433450c0e9",
   "metadata": {},
   "source": [
    "## Step 2 - Lifestyle Configuration "
   ]
  },
  {
   "cell_type": "code",
   "execution_count": 5,
   "id": "9071053e-a018-414b-89e5-54d887bb56dd",
   "metadata": {
    "tags": []
   },
   "outputs": [
    {
     "name": "stdout",
     "output_type": "stream",
     "text": [
      "Overwriting packages.sh\n"
     ]
    }
   ],
   "source": [
    "%%writefile packages.sh\n",
    "\n",
    "#!/bin/bash\n",
    "# This script upgrades the packages on a SageMaker \n",
    "# Studio Kernel Application.\n",
    "\n",
    "set -eux\n",
    "\n",
    "pip install -q --upgrade pip\n",
    "pip install -q --upgrade awscli boto3\n",
    "pip install -q --upgrade scikit-learn==0.23.2\n",
    "pip install -q --upgrade PyYAML==6.0\n",
    "pip install -q --upgrade sagemaker"
   ]
  },
  {
   "cell_type": "code",
   "execution_count": 6,
   "id": "63af9640-1600-4ca7-a728-b07d5b14fb97",
   "metadata": {
    "tags": []
   },
   "outputs": [
    {
     "name": "stdout",
     "output_type": "stream",
     "text": [
      "arn:aws:sagemaker:us-east-2:411039631567:studio-lifecycle-config/packages\n",
      "{\n",
      "    \"UserProfileArn\": \"arn:aws:sagemaker:us-east-2:411039631567:user-profile/d-2jrvvxuimedd/default-1689165909359\"\n",
      "}\n"
     ]
    }
   ],
   "source": [
    "%%bash -s \"$DOMAIN_ID\" \"$USER_PROFILE\"\n",
    "\n",
    "DOMAIN_ID=$(echo \"$1\")\n",
    "USER_PROFILE=$(echo \"$2\")\n",
    "\n",
    "LCC_CONTENT=`openssl base64 -A -in packages.sh`\n",
    "\n",
    "aws sagemaker delete-studio-lifecycle-config \\\n",
    "    --studio-lifecycle-config-name packages\n",
    "\n",
    "response=$(aws sagemaker create-studio-lifecycle-config \\\n",
    "    --studio-lifecycle-config-name packages \\\n",
    "    --studio-lifecycle-config-content $LCC_CONTENT \\\n",
    "    --studio-lifecycle-config-app-type KernelGateway) \n",
    "\n",
    "arn=$(echo \"${response}\" | python3 -c \"import sys, json; print(json.load(sys.stdin)['StudioLifecycleConfigArn'])\")\n",
    "echo \"${arn}\"\n",
    "\n",
    "aws sagemaker update-user-profile --domain-id $DOMAIN_ID \\\n",
    "    --user-profile-name $USER_PROFILE \\\n",
    "    --user-settings '{\n",
    "        \"KernelGatewayAppSettings\": {\n",
    "            \"LifecycleConfigArns\": [\"'$arn'\"]\n",
    "        }\n",
    "    }'"
   ]
  },
  {
   "cell_type": "code",
   "execution_count": 7,
   "id": "5da2e6df-c57b-43da-b11f-ca0ba0153033",
   "metadata": {
    "tags": []
   },
   "outputs": [
    {
     "name": "stdout",
     "output_type": "stream",
     "text": [
      "Writing autoshutdown.sh\n"
     ]
    }
   ],
   "source": [
    "%%writefile autoshutdown.sh\n",
    "\n",
    "#!/bin/bash\n",
    "# This script installs the idle notebook auto-checker server extension to SageMaker Studio\n",
    "# The original extension has a lab extension part where users can set the idle timeout via a Jupyter Lab widget.\n",
    "# In this version the script installs the server side of the extension only. The idle timeout\n",
    "# can be set via a command-line script which will be also created by this create and places into the\n",
    "# user's home folder\n",
    "#\n",
    "# Installing the server side extension does not require Internet connection (as all the dependencies are stored in the\n",
    "# install tarball) and can be done via VPCOnly mode.\n",
    "\n",
    "set -eux\n",
    "\n",
    "# timeout in minutes\n",
    "export TIMEOUT_IN_MINS=60\n",
    "\n",
    "# Should already be running in user home directory, but just to check:\n",
    "cd /home/sagemaker-user\n",
    "\n",
    "# By working in a directory starting with \".\", we won't clutter up users' Jupyter file tree views\n",
    "mkdir -p .auto-shutdown\n",
    "\n",
    "# Create the command-line script for setting the idle timeout\n",
    "cat > .auto-shutdown/set-time-interval.sh << EOF\n",
    "#!/opt/conda/bin/python\n",
    "import json\n",
    "import requests\n",
    "TIMEOUT=${TIMEOUT_IN_MINS}\n",
    "session = requests.Session()\n",
    "# Getting the xsrf token first from Jupyter Server\n",
    "response = session.get(\"http://localhost:8888/jupyter/default/tree\")\n",
    "# calls the idle_checker extension's interface to set the timeout value\n",
    "response = session.post(\"http://localhost:8888/jupyter/default/sagemaker-studio-autoshutdown/idle_checker\",\n",
    "            json={\"idle_time\": TIMEOUT, \"keep_terminals\": False},\n",
    "            params={\"_xsrf\": response.headers['Set-Cookie'].split(\";\")[0].split(\"=\")[1]})\n",
    "if response.status_code == 200:\n",
    "    print(\"Succeeded, idle timeout set to {} minutes\".format(TIMEOUT))\n",
    "else:\n",
    "    print(\"Error!\")\n",
    "    print(response.status_code)\n",
    "EOF\n",
    "chmod +x .auto-shutdown/set-time-interval.sh\n",
    "\n",
    "# \"wget\" is not part of the base Jupyter Server image, you need to install it first if needed to download the tarball\n",
    "sudo yum install -y wget\n",
    "# You can download the tarball from GitHub or alternatively, if you're using VPCOnly mode, you can host on S3\n",
    "wget -O .auto-shutdown/extension.tar.gz https://github.com/aws-samples/sagemaker-studio-auto-shutdown-extension/raw/main/sagemaker_studio_autoshutdown-0.1.5.tar.gz\n",
    "\n",
    "# Or instead, could serve the tarball from an S3 bucket in which case \"wget\" would not be needed:\n",
    "# aws s3 --endpoint-url [S3 Interface Endpoint] cp s3://[tarball location] .auto-shutdown/extension.tar.gz\n",
    "\n",
    "# Installs the extension\n",
    "cd .auto-shutdown\n",
    "tar xzf extension.tar.gz\n",
    "cd sagemaker_studio_autoshutdown-0.1.5\n",
    "\n",
    "# Activate studio environment just for installing extension\n",
    "export AWS_SAGEMAKER_JUPYTERSERVER_IMAGE=\"${AWS_SAGEMAKER_JUPYTERSERVER_IMAGE:-'jupyter-server'}\"\n",
    "if [ \"$AWS_SAGEMAKER_JUPYTERSERVER_IMAGE\" = \"jupyter-server-3\" ] ; then\n",
    "    eval \"$(conda shell.bash hook)\"\n",
    "    conda activate studio\n",
    "fi;\n",
    "pip install --no-dependencies --no-build-isolation -e .\n",
    "jupyter serverextension enable --py sagemaker_studio_autoshutdown\n",
    "if [ \"$AWS_SAGEMAKER_JUPYTERSERVER_IMAGE\" = \"jupyter-server-3\" ] ; then\n",
    "    conda deactivate\n",
    "fi;\n",
    "\n",
    "# Restarts the jupyter server\n",
    "nohup supervisorctl -c /etc/supervisor/conf.d/supervisord.conf restart jupyterlabserver\n",
    "\n",
    "# Waiting for 30 seconds to make sure the Jupyter Server is up and running\n",
    "sleep 30\n",
    "\n",
    "# Calling the script to set the idle-timeout and active the extension\n",
    "/home/sagemaker-user/.auto-shutdown/set-time-interval.sh"
   ]
  },
  {
   "cell_type": "code",
   "execution_count": 8,
   "id": "0dceeba2-518f-48d6-b2a8-b3054c18919f",
   "metadata": {
    "tags": []
   },
   "outputs": [
    {
     "name": "stdout",
     "output_type": "stream",
     "text": [
      "arn:aws:sagemaker:us-east-2:411039631567:studio-lifecycle-config/autoshutdown\n",
      "{\n",
      "    \"UserProfileArn\": \"arn:aws:sagemaker:us-east-2:411039631567:user-profile/d-2jrvvxuimedd/default-1689165909359\"\n",
      "}\n"
     ]
    }
   ],
   "source": [
    "%%bash -s \"$DOMAIN_ID\" \"$USER_PROFILE\"\n",
    "\n",
    "DOMAIN_ID=$(echo \"$1\")\n",
    "USER_PROFILE=$(echo \"$2\")\n",
    "\n",
    "LCC_CONTENT=`openssl base64 -A -in autoshutdown.sh`\n",
    "\n",
    "aws sagemaker delete-studio-lifecycle-config \\\n",
    "    --studio-lifecycle-config-name autoshutdown 2> /dev/null\n",
    "\n",
    "response=$(aws sagemaker create-studio-lifecycle-config \\\n",
    "    --studio-lifecycle-config-name autoshutdown \\\n",
    "    --studio-lifecycle-config-content $LCC_CONTENT \\\n",
    "    --studio-lifecycle-config-app-type JupyterServer) \n",
    "\n",
    "arn=$(echo \"${response}\" | python3 -c \"import sys, json; print(json.load(sys.stdin)['StudioLifecycleConfigArn'])\")\n",
    "echo \"${arn}\"\n",
    "\n",
    "aws sagemaker update-user-profile --domain-id $DOMAIN_ID \\\n",
    "    --user-profile-name $USER_PROFILE \\\n",
    "    --user-settings '{\n",
    "        \"JupyterServerAppSettings\": {\n",
    "            \"DefaultResourceSpec\": {\n",
    "                \"LifecycleConfigArn\": \"'$arn'\",\n",
    "                \"InstanceType\": \"system\"\n",
    "            },\n",
    "            \"LifecycleConfigArns\": [\"'$arn'\"]\n",
    "        }\n",
    "    }'"
   ]
  },
  {
   "cell_type": "markdown",
   "id": "fc194482-2fd6-436c-b975-3be291492e42",
   "metadata": {},
   "source": [
    "## Step 3 - Constants"
   ]
  },
  {
   "cell_type": "markdown",
   "id": "f407220a-b263-4a4c-b991-7564061676c1",
   "metadata": {},
   "source": [
    "##### There are a few constants and variables we'll use throughout every notebook. To prevent code duplication, we'll define them in a file that we can later reuse.\n",
    "\n",
    "##### BUCKET: This is the name of the S3 bucket where we will organize every resource we are going to use during the program. This name has to be unique.\n",
    "##### S3_LOCATION: This is the location in S3 where we'll save every file related to the Penguins project.\n",
    "##### DATA_FILEPATH: The local path where we'll download the Penguins dataset.\n",
    "##### sagemaker_client: We'll use a boto3 SageMaker Client instance to access SageMaker.\n",
    "##### iam_client: We'll use a boto3 IAM Client instance to access IAM.\n",
    "##### role: This is the execution role attached to this notebook. We can use this role with any of the SageMaker services that need it to ensure they run with the appropriate permissions.\n",
    "##### region: The current region attached to our session.\n",
    "##### sagemaker_session: The current SageMaker session."
   ]
  },
  {
   "cell_type": "code",
   "execution_count": 11,
   "id": "dffd95d9-dae8-46f4-81a1-2488c1bc700f",
   "metadata": {
    "tags": []
   },
   "outputs": [
    {
     "name": "stdout",
     "output_type": "stream",
     "text": [
      "Overwriting code/constants.py\n"
     ]
    }
   ],
   "source": [
    "%%writefile {CODE_FOLDER}/constants.py\n",
    "\n",
    "import boto3\n",
    "import sagemaker\n",
    "\n",
    "from pathlib import Path\n",
    "from sagemaker.workflow.pipeline_context import PipelineSession\n",
    "\n",
    "\n",
    "BUCKET = \"penguindatamlschool\"\n",
    "S3_LOCATION = f\"s3://{BUCKET}/penguins\"\n",
    "DATA_FILEPATH = Path().resolve() / \"data.csv\"\n",
    "\n",
    "ENDPOINT = \"penguins-endpoint\"\n",
    "GROUND_TRUTH_LOCATION = f\"{S3_LOCATION}/monitoring/groundtruth\" \n",
    "MODEL_PACKAGE_GROUP = \"penguins\"\n",
    "\n",
    "sagemaker_client = boto3.client(\"sagemaker\")\n",
    "iam_client = boto3.client(\"iam\")\n",
    "role = sagemaker.get_execution_role()\n",
    "region = boto3.Session().region_name\n",
    "sagemaker_session = sagemaker.session.Session()\n",
    "pipeline_session = PipelineSession()"
   ]
  },
  {
   "cell_type": "markdown",
   "id": "e5015b6d-d8c2-4c32-a796-66ba6dd11a95",
   "metadata": {},
   "source": [
    "### Step 4 - S3 Bucket"
   ]
  },
  {
   "cell_type": "code",
   "execution_count": 12,
   "id": "f2244579-4a79-43e1-bdfa-0f5bfcb4e9ee",
   "metadata": {
    "tags": []
   },
   "outputs": [
    {
     "name": "stdout",
     "output_type": "stream",
     "text": [
      "{\n",
      "    \"Location\": \"http://penguindatamlschool.s3.amazonaws.com/\"\n",
      "}\n"
     ]
    }
   ],
   "source": [
    "from constants import BUCKET\n",
    "\n",
    "REGION = 'us-east-2'\n",
    "\n",
    "!aws s3api create-bucket --bucket $BUCKET --create-bucket-configuration LocationConstraint=$REGION"
   ]
  },
  {
   "cell_type": "code",
   "execution_count": 13,
   "id": "badfaeb7-bce1-4dea-be6c-b6f2cb646c0f",
   "metadata": {
    "tags": []
   },
   "outputs": [
    {
     "data": {
      "text/plain": [
       "'s3://penguindatamlschool/penguins/data.csv'"
      ]
     },
     "execution_count": 13,
     "metadata": {},
     "output_type": "execute_result"
    }
   ],
   "source": [
    "import urllib.request\n",
    "import pandas as pd\n",
    "\n",
    "from constants import S3_LOCATION, DATA_FILEPATH\n",
    "from pathlib import Path\n",
    "from sagemaker.s3 import S3Uploader\n",
    "\n",
    "\n",
    "urllib.request.urlretrieve(\n",
    "    \"https://storage.googleapis.com/download.tensorflow.org/data/palmer_penguins/penguins_size.csv\", \n",
    "    DATA_FILEPATH\n",
    ")\n",
    "\n",
    "S3Uploader.upload(local_path=str(DATA_FILEPATH), desired_s3_uri=S3_LOCATION)"
   ]
  },
  {
   "cell_type": "code",
   "execution_count": 15,
   "id": "d6a59b93-25ca-4cab-96b2-8dda07147744",
   "metadata": {
    "tags": []
   },
   "outputs": [
    {
     "name": "stdout",
     "output_type": "stream",
     "text": [
      "/root/Penguin-Detection/data.csv\n"
     ]
    }
   ],
   "source": [
    "print (DATA_FILEPATH)"
   ]
  },
  {
   "cell_type": "code",
   "execution_count": 16,
   "id": "0578fbc8-09c4-459d-84d6-46fcc81541b0",
   "metadata": {
    "tags": []
   },
   "outputs": [
    {
     "data": {
      "text/html": [
       "<div>\n",
       "<style scoped>\n",
       "    .dataframe tbody tr th:only-of-type {\n",
       "        vertical-align: middle;\n",
       "    }\n",
       "\n",
       "    .dataframe tbody tr th {\n",
       "        vertical-align: top;\n",
       "    }\n",
       "\n",
       "    .dataframe thead th {\n",
       "        text-align: right;\n",
       "    }\n",
       "</style>\n",
       "<table border=\"1\" class=\"dataframe\">\n",
       "  <thead>\n",
       "    <tr style=\"text-align: right;\">\n",
       "      <th></th>\n",
       "      <th>species</th>\n",
       "      <th>island</th>\n",
       "      <th>culmen_length_mm</th>\n",
       "      <th>culmen_depth_mm</th>\n",
       "      <th>flipper_length_mm</th>\n",
       "      <th>body_mass_g</th>\n",
       "      <th>sex</th>\n",
       "    </tr>\n",
       "  </thead>\n",
       "  <tbody>\n",
       "    <tr>\n",
       "      <th>0</th>\n",
       "      <td>Adelie</td>\n",
       "      <td>Torgersen</td>\n",
       "      <td>39.1</td>\n",
       "      <td>18.7</td>\n",
       "      <td>181.0</td>\n",
       "      <td>3750.0</td>\n",
       "      <td>MALE</td>\n",
       "    </tr>\n",
       "    <tr>\n",
       "      <th>1</th>\n",
       "      <td>Adelie</td>\n",
       "      <td>Torgersen</td>\n",
       "      <td>39.5</td>\n",
       "      <td>17.4</td>\n",
       "      <td>186.0</td>\n",
       "      <td>3800.0</td>\n",
       "      <td>FEMALE</td>\n",
       "    </tr>\n",
       "    <tr>\n",
       "      <th>2</th>\n",
       "      <td>Adelie</td>\n",
       "      <td>Torgersen</td>\n",
       "      <td>40.3</td>\n",
       "      <td>18.0</td>\n",
       "      <td>195.0</td>\n",
       "      <td>3250.0</td>\n",
       "      <td>FEMALE</td>\n",
       "    </tr>\n",
       "    <tr>\n",
       "      <th>3</th>\n",
       "      <td>Adelie</td>\n",
       "      <td>Torgersen</td>\n",
       "      <td>NaN</td>\n",
       "      <td>NaN</td>\n",
       "      <td>NaN</td>\n",
       "      <td>NaN</td>\n",
       "      <td>NaN</td>\n",
       "    </tr>\n",
       "    <tr>\n",
       "      <th>4</th>\n",
       "      <td>Adelie</td>\n",
       "      <td>Torgersen</td>\n",
       "      <td>36.7</td>\n",
       "      <td>19.3</td>\n",
       "      <td>193.0</td>\n",
       "      <td>3450.0</td>\n",
       "      <td>FEMALE</td>\n",
       "    </tr>\n",
       "    <tr>\n",
       "      <th>...</th>\n",
       "      <td>...</td>\n",
       "      <td>...</td>\n",
       "      <td>...</td>\n",
       "      <td>...</td>\n",
       "      <td>...</td>\n",
       "      <td>...</td>\n",
       "      <td>...</td>\n",
       "    </tr>\n",
       "    <tr>\n",
       "      <th>339</th>\n",
       "      <td>Gentoo</td>\n",
       "      <td>Biscoe</td>\n",
       "      <td>NaN</td>\n",
       "      <td>NaN</td>\n",
       "      <td>NaN</td>\n",
       "      <td>NaN</td>\n",
       "      <td>NaN</td>\n",
       "    </tr>\n",
       "    <tr>\n",
       "      <th>340</th>\n",
       "      <td>Gentoo</td>\n",
       "      <td>Biscoe</td>\n",
       "      <td>46.8</td>\n",
       "      <td>14.3</td>\n",
       "      <td>215.0</td>\n",
       "      <td>4850.0</td>\n",
       "      <td>FEMALE</td>\n",
       "    </tr>\n",
       "    <tr>\n",
       "      <th>341</th>\n",
       "      <td>Gentoo</td>\n",
       "      <td>Biscoe</td>\n",
       "      <td>50.4</td>\n",
       "      <td>15.7</td>\n",
       "      <td>222.0</td>\n",
       "      <td>5750.0</td>\n",
       "      <td>MALE</td>\n",
       "    </tr>\n",
       "    <tr>\n",
       "      <th>342</th>\n",
       "      <td>Gentoo</td>\n",
       "      <td>Biscoe</td>\n",
       "      <td>45.2</td>\n",
       "      <td>14.8</td>\n",
       "      <td>212.0</td>\n",
       "      <td>5200.0</td>\n",
       "      <td>FEMALE</td>\n",
       "    </tr>\n",
       "    <tr>\n",
       "      <th>343</th>\n",
       "      <td>Gentoo</td>\n",
       "      <td>Biscoe</td>\n",
       "      <td>49.9</td>\n",
       "      <td>16.1</td>\n",
       "      <td>213.0</td>\n",
       "      <td>5400.0</td>\n",
       "      <td>MALE</td>\n",
       "    </tr>\n",
       "  </tbody>\n",
       "</table>\n",
       "<p>344 rows × 7 columns</p>\n",
       "</div>"
      ],
      "text/plain": [
       "    species     island  culmen_length_mm  culmen_depth_mm  flipper_length_mm  \\\n",
       "0    Adelie  Torgersen              39.1             18.7              181.0   \n",
       "1    Adelie  Torgersen              39.5             17.4              186.0   \n",
       "2    Adelie  Torgersen              40.3             18.0              195.0   \n",
       "3    Adelie  Torgersen               NaN              NaN                NaN   \n",
       "4    Adelie  Torgersen              36.7             19.3              193.0   \n",
       "..      ...        ...               ...              ...                ...   \n",
       "339  Gentoo     Biscoe               NaN              NaN                NaN   \n",
       "340  Gentoo     Biscoe              46.8             14.3              215.0   \n",
       "341  Gentoo     Biscoe              50.4             15.7              222.0   \n",
       "342  Gentoo     Biscoe              45.2             14.8              212.0   \n",
       "343  Gentoo     Biscoe              49.9             16.1              213.0   \n",
       "\n",
       "     body_mass_g     sex  \n",
       "0         3750.0    MALE  \n",
       "1         3800.0  FEMALE  \n",
       "2         3250.0  FEMALE  \n",
       "3            NaN     NaN  \n",
       "4         3450.0  FEMALE  \n",
       "..           ...     ...  \n",
       "339          NaN     NaN  \n",
       "340       4850.0  FEMALE  \n",
       "341       5750.0    MALE  \n",
       "342       5200.0  FEMALE  \n",
       "343       5400.0    MALE  \n",
       "\n",
       "[344 rows x 7 columns]"
      ]
     },
     "execution_count": 16,
     "metadata": {},
     "output_type": "execute_result"
    }
   ],
   "source": [
    "pd.read_csv(DATA_FILEPATH)"
   ]
  },
  {
   "cell_type": "code",
   "execution_count": null,
   "id": "89aa4506-2e6f-4ad9-a80a-f51c8d6788b5",
   "metadata": {},
   "outputs": [],
   "source": []
  }
 ],
 "metadata": {
  "availableInstances": [
   {
    "_defaultOrder": 0,
    "_isFastLaunch": true,
    "category": "General purpose",
    "gpuNum": 0,
    "hideHardwareSpecs": false,
    "memoryGiB": 4,
    "name": "ml.t3.medium",
    "vcpuNum": 2
   },
   {
    "_defaultOrder": 1,
    "_isFastLaunch": false,
    "category": "General purpose",
    "gpuNum": 0,
    "hideHardwareSpecs": false,
    "memoryGiB": 8,
    "name": "ml.t3.large",
    "vcpuNum": 2
   },
   {
    "_defaultOrder": 2,
    "_isFastLaunch": false,
    "category": "General purpose",
    "gpuNum": 0,
    "hideHardwareSpecs": false,
    "memoryGiB": 16,
    "name": "ml.t3.xlarge",
    "vcpuNum": 4
   },
   {
    "_defaultOrder": 3,
    "_isFastLaunch": false,
    "category": "General purpose",
    "gpuNum": 0,
    "hideHardwareSpecs": false,
    "memoryGiB": 32,
    "name": "ml.t3.2xlarge",
    "vcpuNum": 8
   },
   {
    "_defaultOrder": 4,
    "_isFastLaunch": true,
    "category": "General purpose",
    "gpuNum": 0,
    "hideHardwareSpecs": false,
    "memoryGiB": 8,
    "name": "ml.m5.large",
    "vcpuNum": 2
   },
   {
    "_defaultOrder": 5,
    "_isFastLaunch": false,
    "category": "General purpose",
    "gpuNum": 0,
    "hideHardwareSpecs": false,
    "memoryGiB": 16,
    "name": "ml.m5.xlarge",
    "vcpuNum": 4
   },
   {
    "_defaultOrder": 6,
    "_isFastLaunch": false,
    "category": "General purpose",
    "gpuNum": 0,
    "hideHardwareSpecs": false,
    "memoryGiB": 32,
    "name": "ml.m5.2xlarge",
    "vcpuNum": 8
   },
   {
    "_defaultOrder": 7,
    "_isFastLaunch": false,
    "category": "General purpose",
    "gpuNum": 0,
    "hideHardwareSpecs": false,
    "memoryGiB": 64,
    "name": "ml.m5.4xlarge",
    "vcpuNum": 16
   },
   {
    "_defaultOrder": 8,
    "_isFastLaunch": false,
    "category": "General purpose",
    "gpuNum": 0,
    "hideHardwareSpecs": false,
    "memoryGiB": 128,
    "name": "ml.m5.8xlarge",
    "vcpuNum": 32
   },
   {
    "_defaultOrder": 9,
    "_isFastLaunch": false,
    "category": "General purpose",
    "gpuNum": 0,
    "hideHardwareSpecs": false,
    "memoryGiB": 192,
    "name": "ml.m5.12xlarge",
    "vcpuNum": 48
   },
   {
    "_defaultOrder": 10,
    "_isFastLaunch": false,
    "category": "General purpose",
    "gpuNum": 0,
    "hideHardwareSpecs": false,
    "memoryGiB": 256,
    "name": "ml.m5.16xlarge",
    "vcpuNum": 64
   },
   {
    "_defaultOrder": 11,
    "_isFastLaunch": false,
    "category": "General purpose",
    "gpuNum": 0,
    "hideHardwareSpecs": false,
    "memoryGiB": 384,
    "name": "ml.m5.24xlarge",
    "vcpuNum": 96
   },
   {
    "_defaultOrder": 12,
    "_isFastLaunch": false,
    "category": "General purpose",
    "gpuNum": 0,
    "hideHardwareSpecs": false,
    "memoryGiB": 8,
    "name": "ml.m5d.large",
    "vcpuNum": 2
   },
   {
    "_defaultOrder": 13,
    "_isFastLaunch": false,
    "category": "General purpose",
    "gpuNum": 0,
    "hideHardwareSpecs": false,
    "memoryGiB": 16,
    "name": "ml.m5d.xlarge",
    "vcpuNum": 4
   },
   {
    "_defaultOrder": 14,
    "_isFastLaunch": false,
    "category": "General purpose",
    "gpuNum": 0,
    "hideHardwareSpecs": false,
    "memoryGiB": 32,
    "name": "ml.m5d.2xlarge",
    "vcpuNum": 8
   },
   {
    "_defaultOrder": 15,
    "_isFastLaunch": false,
    "category": "General purpose",
    "gpuNum": 0,
    "hideHardwareSpecs": false,
    "memoryGiB": 64,
    "name": "ml.m5d.4xlarge",
    "vcpuNum": 16
   },
   {
    "_defaultOrder": 16,
    "_isFastLaunch": false,
    "category": "General purpose",
    "gpuNum": 0,
    "hideHardwareSpecs": false,
    "memoryGiB": 128,
    "name": "ml.m5d.8xlarge",
    "vcpuNum": 32
   },
   {
    "_defaultOrder": 17,
    "_isFastLaunch": false,
    "category": "General purpose",
    "gpuNum": 0,
    "hideHardwareSpecs": false,
    "memoryGiB": 192,
    "name": "ml.m5d.12xlarge",
    "vcpuNum": 48
   },
   {
    "_defaultOrder": 18,
    "_isFastLaunch": false,
    "category": "General purpose",
    "gpuNum": 0,
    "hideHardwareSpecs": false,
    "memoryGiB": 256,
    "name": "ml.m5d.16xlarge",
    "vcpuNum": 64
   },
   {
    "_defaultOrder": 19,
    "_isFastLaunch": false,
    "category": "General purpose",
    "gpuNum": 0,
    "hideHardwareSpecs": false,
    "memoryGiB": 384,
    "name": "ml.m5d.24xlarge",
    "vcpuNum": 96
   },
   {
    "_defaultOrder": 20,
    "_isFastLaunch": false,
    "category": "General purpose",
    "gpuNum": 0,
    "hideHardwareSpecs": true,
    "memoryGiB": 0,
    "name": "ml.geospatial.interactive",
    "supportedImageNames": [
     "sagemaker-geospatial-v1-0"
    ],
    "vcpuNum": 0
   },
   {
    "_defaultOrder": 21,
    "_isFastLaunch": true,
    "category": "Compute optimized",
    "gpuNum": 0,
    "hideHardwareSpecs": false,
    "memoryGiB": 4,
    "name": "ml.c5.large",
    "vcpuNum": 2
   },
   {
    "_defaultOrder": 22,
    "_isFastLaunch": false,
    "category": "Compute optimized",
    "gpuNum": 0,
    "hideHardwareSpecs": false,
    "memoryGiB": 8,
    "name": "ml.c5.xlarge",
    "vcpuNum": 4
   },
   {
    "_defaultOrder": 23,
    "_isFastLaunch": false,
    "category": "Compute optimized",
    "gpuNum": 0,
    "hideHardwareSpecs": false,
    "memoryGiB": 16,
    "name": "ml.c5.2xlarge",
    "vcpuNum": 8
   },
   {
    "_defaultOrder": 24,
    "_isFastLaunch": false,
    "category": "Compute optimized",
    "gpuNum": 0,
    "hideHardwareSpecs": false,
    "memoryGiB": 32,
    "name": "ml.c5.4xlarge",
    "vcpuNum": 16
   },
   {
    "_defaultOrder": 25,
    "_isFastLaunch": false,
    "category": "Compute optimized",
    "gpuNum": 0,
    "hideHardwareSpecs": false,
    "memoryGiB": 72,
    "name": "ml.c5.9xlarge",
    "vcpuNum": 36
   },
   {
    "_defaultOrder": 26,
    "_isFastLaunch": false,
    "category": "Compute optimized",
    "gpuNum": 0,
    "hideHardwareSpecs": false,
    "memoryGiB": 96,
    "name": "ml.c5.12xlarge",
    "vcpuNum": 48
   },
   {
    "_defaultOrder": 27,
    "_isFastLaunch": false,
    "category": "Compute optimized",
    "gpuNum": 0,
    "hideHardwareSpecs": false,
    "memoryGiB": 144,
    "name": "ml.c5.18xlarge",
    "vcpuNum": 72
   },
   {
    "_defaultOrder": 28,
    "_isFastLaunch": false,
    "category": "Compute optimized",
    "gpuNum": 0,
    "hideHardwareSpecs": false,
    "memoryGiB": 192,
    "name": "ml.c5.24xlarge",
    "vcpuNum": 96
   },
   {
    "_defaultOrder": 29,
    "_isFastLaunch": true,
    "category": "Accelerated computing",
    "gpuNum": 1,
    "hideHardwareSpecs": false,
    "memoryGiB": 16,
    "name": "ml.g4dn.xlarge",
    "vcpuNum": 4
   },
   {
    "_defaultOrder": 30,
    "_isFastLaunch": false,
    "category": "Accelerated computing",
    "gpuNum": 1,
    "hideHardwareSpecs": false,
    "memoryGiB": 32,
    "name": "ml.g4dn.2xlarge",
    "vcpuNum": 8
   },
   {
    "_defaultOrder": 31,
    "_isFastLaunch": false,
    "category": "Accelerated computing",
    "gpuNum": 1,
    "hideHardwareSpecs": false,
    "memoryGiB": 64,
    "name": "ml.g4dn.4xlarge",
    "vcpuNum": 16
   },
   {
    "_defaultOrder": 32,
    "_isFastLaunch": false,
    "category": "Accelerated computing",
    "gpuNum": 1,
    "hideHardwareSpecs": false,
    "memoryGiB": 128,
    "name": "ml.g4dn.8xlarge",
    "vcpuNum": 32
   },
   {
    "_defaultOrder": 33,
    "_isFastLaunch": false,
    "category": "Accelerated computing",
    "gpuNum": 4,
    "hideHardwareSpecs": false,
    "memoryGiB": 192,
    "name": "ml.g4dn.12xlarge",
    "vcpuNum": 48
   },
   {
    "_defaultOrder": 34,
    "_isFastLaunch": false,
    "category": "Accelerated computing",
    "gpuNum": 1,
    "hideHardwareSpecs": false,
    "memoryGiB": 256,
    "name": "ml.g4dn.16xlarge",
    "vcpuNum": 64
   },
   {
    "_defaultOrder": 35,
    "_isFastLaunch": false,
    "category": "Accelerated computing",
    "gpuNum": 1,
    "hideHardwareSpecs": false,
    "memoryGiB": 61,
    "name": "ml.p3.2xlarge",
    "vcpuNum": 8
   },
   {
    "_defaultOrder": 36,
    "_isFastLaunch": false,
    "category": "Accelerated computing",
    "gpuNum": 4,
    "hideHardwareSpecs": false,
    "memoryGiB": 244,
    "name": "ml.p3.8xlarge",
    "vcpuNum": 32
   },
   {
    "_defaultOrder": 37,
    "_isFastLaunch": false,
    "category": "Accelerated computing",
    "gpuNum": 8,
    "hideHardwareSpecs": false,
    "memoryGiB": 488,
    "name": "ml.p3.16xlarge",
    "vcpuNum": 64
   },
   {
    "_defaultOrder": 38,
    "_isFastLaunch": false,
    "category": "Accelerated computing",
    "gpuNum": 8,
    "hideHardwareSpecs": false,
    "memoryGiB": 768,
    "name": "ml.p3dn.24xlarge",
    "vcpuNum": 96
   },
   {
    "_defaultOrder": 39,
    "_isFastLaunch": false,
    "category": "Memory Optimized",
    "gpuNum": 0,
    "hideHardwareSpecs": false,
    "memoryGiB": 16,
    "name": "ml.r5.large",
    "vcpuNum": 2
   },
   {
    "_defaultOrder": 40,
    "_isFastLaunch": false,
    "category": "Memory Optimized",
    "gpuNum": 0,
    "hideHardwareSpecs": false,
    "memoryGiB": 32,
    "name": "ml.r5.xlarge",
    "vcpuNum": 4
   },
   {
    "_defaultOrder": 41,
    "_isFastLaunch": false,
    "category": "Memory Optimized",
    "gpuNum": 0,
    "hideHardwareSpecs": false,
    "memoryGiB": 64,
    "name": "ml.r5.2xlarge",
    "vcpuNum": 8
   },
   {
    "_defaultOrder": 42,
    "_isFastLaunch": false,
    "category": "Memory Optimized",
    "gpuNum": 0,
    "hideHardwareSpecs": false,
    "memoryGiB": 128,
    "name": "ml.r5.4xlarge",
    "vcpuNum": 16
   },
   {
    "_defaultOrder": 43,
    "_isFastLaunch": false,
    "category": "Memory Optimized",
    "gpuNum": 0,
    "hideHardwareSpecs": false,
    "memoryGiB": 256,
    "name": "ml.r5.8xlarge",
    "vcpuNum": 32
   },
   {
    "_defaultOrder": 44,
    "_isFastLaunch": false,
    "category": "Memory Optimized",
    "gpuNum": 0,
    "hideHardwareSpecs": false,
    "memoryGiB": 384,
    "name": "ml.r5.12xlarge",
    "vcpuNum": 48
   },
   {
    "_defaultOrder": 45,
    "_isFastLaunch": false,
    "category": "Memory Optimized",
    "gpuNum": 0,
    "hideHardwareSpecs": false,
    "memoryGiB": 512,
    "name": "ml.r5.16xlarge",
    "vcpuNum": 64
   },
   {
    "_defaultOrder": 46,
    "_isFastLaunch": false,
    "category": "Memory Optimized",
    "gpuNum": 0,
    "hideHardwareSpecs": false,
    "memoryGiB": 768,
    "name": "ml.r5.24xlarge",
    "vcpuNum": 96
   },
   {
    "_defaultOrder": 47,
    "_isFastLaunch": false,
    "category": "Accelerated computing",
    "gpuNum": 1,
    "hideHardwareSpecs": false,
    "memoryGiB": 16,
    "name": "ml.g5.xlarge",
    "vcpuNum": 4
   },
   {
    "_defaultOrder": 48,
    "_isFastLaunch": false,
    "category": "Accelerated computing",
    "gpuNum": 1,
    "hideHardwareSpecs": false,
    "memoryGiB": 32,
    "name": "ml.g5.2xlarge",
    "vcpuNum": 8
   },
   {
    "_defaultOrder": 49,
    "_isFastLaunch": false,
    "category": "Accelerated computing",
    "gpuNum": 1,
    "hideHardwareSpecs": false,
    "memoryGiB": 64,
    "name": "ml.g5.4xlarge",
    "vcpuNum": 16
   },
   {
    "_defaultOrder": 50,
    "_isFastLaunch": false,
    "category": "Accelerated computing",
    "gpuNum": 1,
    "hideHardwareSpecs": false,
    "memoryGiB": 128,
    "name": "ml.g5.8xlarge",
    "vcpuNum": 32
   },
   {
    "_defaultOrder": 51,
    "_isFastLaunch": false,
    "category": "Accelerated computing",
    "gpuNum": 1,
    "hideHardwareSpecs": false,
    "memoryGiB": 256,
    "name": "ml.g5.16xlarge",
    "vcpuNum": 64
   },
   {
    "_defaultOrder": 52,
    "_isFastLaunch": false,
    "category": "Accelerated computing",
    "gpuNum": 4,
    "hideHardwareSpecs": false,
    "memoryGiB": 192,
    "name": "ml.g5.12xlarge",
    "vcpuNum": 48
   },
   {
    "_defaultOrder": 53,
    "_isFastLaunch": false,
    "category": "Accelerated computing",
    "gpuNum": 4,
    "hideHardwareSpecs": false,
    "memoryGiB": 384,
    "name": "ml.g5.24xlarge",
    "vcpuNum": 96
   },
   {
    "_defaultOrder": 54,
    "_isFastLaunch": false,
    "category": "Accelerated computing",
    "gpuNum": 8,
    "hideHardwareSpecs": false,
    "memoryGiB": 768,
    "name": "ml.g5.48xlarge",
    "vcpuNum": 192
   },
   {
    "_defaultOrder": 55,
    "_isFastLaunch": false,
    "category": "Accelerated computing",
    "gpuNum": 8,
    "hideHardwareSpecs": false,
    "memoryGiB": 1152,
    "name": "ml.p4d.24xlarge",
    "vcpuNum": 96
   },
   {
    "_defaultOrder": 56,
    "_isFastLaunch": false,
    "category": "Accelerated computing",
    "gpuNum": 8,
    "hideHardwareSpecs": false,
    "memoryGiB": 1152,
    "name": "ml.p4de.24xlarge",
    "vcpuNum": 96
   }
  ],
  "instance_type": "ml.t3.medium",
  "kernelspec": {
   "display_name": "Python 3 (Data Science)",
   "language": "python",
   "name": "python3__SAGEMAKER_INTERNAL__arn:aws:sagemaker:us-east-2:429704687514:image/datascience-1.0"
  },
  "language_info": {
   "codemirror_mode": {
    "name": "ipython",
    "version": 3
   },
   "file_extension": ".py",
   "mimetype": "text/x-python",
   "name": "python",
   "nbconvert_exporter": "python",
   "pygments_lexer": "ipython3",
   "version": "3.7.10"
  }
 },
 "nbformat": 4,
 "nbformat_minor": 5
}
